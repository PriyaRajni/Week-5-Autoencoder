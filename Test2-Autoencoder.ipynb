{
 "cells": [
  {
   "cell_type": "code",
   "execution_count": 13,
   "id": "ee96d1d5",
   "metadata": {},
   "outputs": [],
   "source": [
    "import numpy as np\n",
    "import tensorflow as tf\n",
    "import tensorflow.keras as K\n",
    "import matplotlib.pyplot as plt"
   ]
  },
  {
   "cell_type": "markdown",
   "id": "c917b24a",
   "metadata": {},
   "source": [
    "# Set seeds for reproducibility"
   ]
  },
  {
   "cell_type": "code",
   "execution_count": 14,
   "id": "2a4c5e0e",
   "metadata": {},
   "outputs": [],
   "source": [
    "\n",
    "np.random.seed(11)\n",
    "tf.random.set_seed(11)"
   ]
  },
  {
   "cell_type": "markdown",
   "id": "3359801b",
   "metadata": {},
   "source": [
    "# Set the Hyperparameters"
   ]
  },
  {
   "cell_type": "code",
   "execution_count": 15,
   "id": "45ca17e5",
   "metadata": {},
   "outputs": [],
   "source": [
    "\n",
    "batch_size = 256\n",
    "max_epochs = 50\n",
    "learning_rate = 1e-3\n",
    "hidden_dim = 128\n",
    "original_dim = 784"
   ]
  },
  {
   "cell_type": "markdown",
   "id": "f8d6be8e",
   "metadata": {},
   "source": [
    "Load and preprocess MNIST data"
   ]
  },
  {
   "cell_type": "code",
   "execution_count": 16,
   "id": "8815ede1",
   "metadata": {},
   "outputs": [],
   "source": [
    "\n",
    "(x_train, _), (x_test, _) = K.datasets.mnist.load_data()\n",
    "x_train = x_train / 255.\n",
    "x_test = x_test / 255.\n",
    "x_train = x_train.astype(np.float32).reshape(-1, 784)\n",
    "x_test = x_test.astype(np.float32).reshape(-1, 784)\n",
    "training_dataset = tf.data.Dataset.from_tensor_slices(x_train).batch(batch_size)"
   ]
  },
  {
   "cell_type": "markdown",
   "id": "0592b288",
   "metadata": {},
   "source": [
    "Define the Autoencoder class"
   ]
  },
  {
   "cell_type": "code",
   "execution_count": 17,
   "id": "f1e5b012",
   "metadata": {},
   "outputs": [],
   "source": [
    "\n",
    "class Autoencoder(tf.keras.Model):\n",
    "    def __init__(self, hidden_dim, original_dim):\n",
    "        super(Autoencoder, self).__init__()\n",
    "        self.encoder = tf.keras.Sequential([\n",
    "            tf.keras.layers.Input(shape=(original_dim,)),\n",
    "            tf.keras.layers.Dense(hidden_dim, activation='relu')\n",
    "        ])\n",
    "        self.decoder = tf.keras.Sequential([\n",
    "            tf.keras.layers.Dense(original_dim, activation='sigmoid')\n",
    "        ])\n",
    "        self.loss = []  # To track loss per epoch\n",
    "\n",
    "    def call(self, x):\n",
    "        encoded = self.encoder(x)\n",
    "        decoded = self.decoder(encoded)\n",
    "        return decoded"
   ]
  },
  {
   "cell_type": "markdown",
   "id": "15fcd85a",
   "metadata": {},
   "source": [
    "Loss function (Mean Squared Error)"
   ]
  },
  {
   "cell_type": "code",
   "execution_count": 18,
   "id": "2d1a3735",
   "metadata": {},
   "outputs": [],
   "source": [
    "\n",
    "def loss(preds, real):\n",
    "    return tf.reduce_mean(tf.square(tf.subtract(preds, real)))"
   ]
  },
  {
   "cell_type": "markdown",
   "id": "7e15be44",
   "metadata": {},
   "source": [
    "One training step"
   ]
  },
  {
   "cell_type": "code",
   "execution_count": 19,
   "id": "34751d72",
   "metadata": {},
   "outputs": [],
   "source": [
    "# \n",
    "def train(loss_fn, model, opt, original):\n",
    "    with tf.GradientTape() as tape:\n",
    "        preds = model(original)\n",
    "        reconstruction_error = loss_fn(preds, original)\n",
    "        gradients = tape.gradient(reconstruction_error, model.trainable_variables)\n",
    "        opt.apply_gradients(zip(gradients, model.trainable_variables))\n",
    "    return reconstruction_error"
   ]
  },
  {
   "cell_type": "markdown",
   "id": "13a881a2",
   "metadata": {},
   "source": [
    "Full training loop"
   ]
  },
  {
   "cell_type": "code",
   "execution_count": 20,
   "id": "73b0fe10",
   "metadata": {},
   "outputs": [],
   "source": [
    "def train_loop(model, opt, loss_fn, dataset, epochs=20):\n",
    "    for epoch in range(epochs):\n",
    "        epoch_loss = 0\n",
    "        for step, batch_features in enumerate(dataset):\n",
    "            loss_values = train(loss_fn, model, opt, batch_features)\n",
    "            epoch_loss += loss_values\n",
    "        model.loss.append(epoch_loss)\n",
    "        print(f\"Epoch {epoch + 1}/{epochs}, Loss: {epoch_loss.numpy():.4f}\")"
   ]
  },
  {
   "cell_type": "markdown",
   "id": "e5cde4c9",
   "metadata": {},
   "source": [
    "Instantiate and train the autoencoder"
   ]
  },
  {
   "cell_type": "code",
   "execution_count": 21,
   "id": "e695d2c1",
   "metadata": {},
   "outputs": [
    {
     "name": "stdout",
     "output_type": "stream",
     "text": [
      "Epoch 1/50, Loss: 12.3048\n",
      "Epoch 2/50, Loss: 5.0994\n",
      "Epoch 3/50, Loss: 3.4420\n",
      "Epoch 4/50, Loss: 2.5224\n",
      "Epoch 5/50, Loss: 1.9357\n",
      "Epoch 6/50, Loss: 1.5478\n",
      "Epoch 7/50, Loss: 1.2789\n",
      "Epoch 8/50, Loss: 1.0936\n",
      "Epoch 9/50, Loss: 0.9588\n",
      "Epoch 10/50, Loss: 0.8565\n",
      "Epoch 11/50, Loss: 0.7777\n",
      "Epoch 12/50, Loss: 0.7187\n",
      "Epoch 13/50, Loss: 0.6721\n"
     ]
    },
    {
     "name": "stderr",
     "output_type": "stream",
     "text": [
      "2025-06-08 00:12:51.644839: I tensorflow/core/framework/local_rendezvous.cc:407] Local rendezvous is aborting with status: OUT_OF_RANGE: End of sequence\n"
     ]
    },
    {
     "name": "stdout",
     "output_type": "stream",
     "text": [
      "Epoch 14/50, Loss: 0.6338\n",
      "Epoch 15/50, Loss: 0.6002\n",
      "Epoch 16/50, Loss: 0.5721\n",
      "Epoch 17/50, Loss: 0.5487\n",
      "Epoch 18/50, Loss: 0.5291\n",
      "Epoch 19/50, Loss: 0.5124\n",
      "Epoch 20/50, Loss: 0.4980\n",
      "Epoch 21/50, Loss: 0.4853\n",
      "Epoch 22/50, Loss: 0.4740\n",
      "Epoch 23/50, Loss: 0.4639\n",
      "Epoch 24/50, Loss: 0.4549\n",
      "Epoch 25/50, Loss: 0.4470\n",
      "Epoch 26/50, Loss: 0.4399\n",
      "Epoch 27/50, Loss: 0.4335\n",
      "Epoch 28/50, Loss: 0.4275\n",
      "Epoch 29/50, Loss: 0.4224\n",
      "Epoch 30/50, Loss: 0.4173\n",
      "Epoch 31/50, Loss: 0.4128\n",
      "Epoch 32/50, Loss: 0.4086\n",
      "Epoch 33/50, Loss: 0.4049\n",
      "Epoch 34/50, Loss: 0.4015\n",
      "Epoch 35/50, Loss: 0.3984\n",
      "Epoch 36/50, Loss: 0.3957\n",
      "Epoch 37/50, Loss: 0.3931\n",
      "Epoch 38/50, Loss: 0.3904\n",
      "Epoch 39/50, Loss: 0.3872\n",
      "Epoch 40/50, Loss: 0.3843\n",
      "Epoch 41/50, Loss: 0.3821\n",
      "Epoch 42/50, Loss: 0.3801\n",
      "Epoch 43/50, Loss: 0.3778\n",
      "Epoch 44/50, Loss: 0.3758\n",
      "Epoch 45/50, Loss: 0.3742\n",
      "Epoch 46/50, Loss: 0.3728\n",
      "Epoch 47/50, Loss: 0.3715\n",
      "Epoch 48/50, Loss: 0.3702\n",
      "Epoch 49/50, Loss: 0.3688\n",
      "Epoch 50/50, Loss: 0.3675\n"
     ]
    }
   ],
   "source": [
    "autoencoder = Autoencoder(hidden_dim=hidden_dim, original_dim=original_dim)\n",
    "opt = tf.keras.optimizers.Adam(learning_rate=learning_rate)\n",
    "train_loop(autoencoder, opt, loss, training_dataset, epochs=max_epochs)"
   ]
  },
  {
   "cell_type": "markdown",
   "id": "0c6813a7",
   "metadata": {},
   "source": [
    "Plot loss curve"
   ]
  },
  {
   "cell_type": "code",
   "execution_count": null,
   "id": "2d7f2c76",
   "metadata": {},
   "outputs": [
    {
     "data": {
      "image/png": "[encoded data removed]",
      "text/plain": [
       "<Figure size 640x480 with 1 Axes>"
      ]
     },
     "metadata": {},
     "output_type": "display_data"
    }
   ],
   "source": [
    "plt.plot(range(max_epochs), autoencoder.loss)\n",
    "plt.xlabel('Epochs')\n",
    "plt.ylabel('Loss')\n",
    "plt.title('Training Loss over Epochs')\n",
    "plt.show()"
   ]
  },
  {
   "cell_type": "markdown",
   "id": "3f9bab43",
   "metadata": {},
   "source": [
    "Visualize original vs reconstructed digits"
   ]
  },
  {
   "cell_type": "code",
   "execution_count": 23,
   "id": "595c5422",
   "metadata": {},
   "outputs": [
    {
     "data": {
      "image/png": "[encoded data removed]",
      "text/plain": [
       "<Figure size 2000x400 with 20 Axes>"
      ]
     },
     "metadata": {},
     "output_type": "display_data"
    }
   ],
   "source": [
    "number = 10\n",
    "plt.figure(figsize=(20, 4))\n",
    "reconstructed = autoencoder(x_test).numpy()\n",
    "\n",
    "for i in range(number):\n",
    "    # Original\n",
    "    ax = plt.subplot(2, number, i + 1)\n",
    "    plt.imshow(x_test[i].reshape(28, 28), cmap='gray')\n",
    "    ax.axis('off')\n",
    "\n",
    "    # Reconstructed\n",
    "    ax = plt.subplot(2, number, i + 1 + number)\n",
    "    plt.imshow(reconstructed[i].reshape(28, 28), cmap='gray')\n",
    "    ax.axis('off')\n",
    "\n",
    "plt.show()"
   ]
  }
 ],
 "metadata": {
  "kernelspec": {
   "display_name": "venvauto",
   "language": "python",
   "name": "python3"
  },
  "language_info": {
   "codemirror_mode": {
    "name": "ipython",
    "version": 3
   },
   "file_extension": ".py",
   "mimetype": "text/x-python",
   "name": "python",
   "nbconvert_exporter": "python",
   "pygments_lexer": "ipython3",
   "version": "3.11.0"
  }
 },
 "nbformat": 4,
 "nbformat_minor": 5
}
